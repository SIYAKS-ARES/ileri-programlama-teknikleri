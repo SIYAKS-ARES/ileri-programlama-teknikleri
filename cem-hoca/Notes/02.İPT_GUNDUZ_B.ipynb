{
  "cells": [
    {
      "cell_type": "code",
      "execution_count": 26,
      "metadata": {
        "id": "psA6-p7Q_dc3"
      },
      "outputs": [],
      "source": [
        "import math\n",
        "class Cember():\n",
        "  def __init__(self):\n",
        "    self.yaricap=1\n",
        "  def getAlan(self):\n",
        "    return math.pi * self.yaricap ** 2\n",
        "  def getCevre(self):\n",
        "    return 2 * math.pi * self.yaricap"
      ]
    },
    {
      "cell_type": "code",
      "execution_count": 27,
      "metadata": {
        "id": "i_k6hDAZB9R3"
      },
      "outputs": [],
      "source": [
        "class TestCember():\n",
        "  def main(self):\n",
        "    cember1=Cember()\n",
        "    print(\"Varsayılan Cemberin Yaricapi : \" , cember1.yaricap)\n",
        "    print(\"Varsayılan Cemberin Cevresi : \" , cember1.getCevre())\n",
        "    print(\"Varsayılan Cemberin Alani : \" , cember1.getAlan())"
      ]
    },
    {
      "cell_type": "code",
      "execution_count": 28,
      "metadata": {
        "colab": {
          "base_uri": "https://localhost:8080/"
        },
        "id": "Ug7pK-2fC8zS",
        "outputId": "53eedbbf-aefe-48ee-fc67-95880967c080"
      },
      "outputs": [
        {
          "name": "stdout",
          "output_type": "stream",
          "text": [
            "Varsayılan Cemberin Yaricapi :  1\n",
            "Varsayılan Cemberin Cevresi :  6.283185307179586\n",
            "Varsayılan Cemberin Alani :  3.141592653589793\n"
          ]
        }
      ],
      "source": [
        "TestCember().main()"
      ]
    },
    {
      "cell_type": "code",
      "execution_count": 29,
      "metadata": {
        "id": "PnF7YWw0DKNa"
      },
      "outputs": [],
      "source": [
        "import math\n",
        "class Cember():\n",
        "  def __init__(self,yaricap):\n",
        "    self.yaricap=yaricap\n",
        "  def getAlan(self):\n",
        "    return math.pi * self.yaricap ** 2\n",
        "  def getCevre(self):\n",
        "    return 2 * math.pi * self.yaricap"
      ]
    },
    {
      "cell_type": "code",
      "execution_count": 30,
      "metadata": {
        "id": "67Hd-FZFDUH4"
      },
      "outputs": [],
      "source": [
        "class TestCember():\n",
        "  def main(self):\n",
        "    cember1=Cember(3)\n",
        "    print(\"Varsayılan Cemberin Yaricapi : \" , cember1.yaricap)\n",
        "    print(\"Varsayılan Cemberin Cevresi : \" , cember1.getCevre())\n",
        "    print(\"Varsayılan Cemberin Alani : \" , cember1.getAlan())"
      ]
    },
    {
      "cell_type": "code",
      "execution_count": 31,
      "metadata": {
        "colab": {
          "base_uri": "https://localhost:8080/"
        },
        "id": "dKeS7PioDZGN",
        "outputId": "92c421a1-f70b-4d08-ae29-8308665a2a52"
      },
      "outputs": [
        {
          "name": "stdout",
          "output_type": "stream",
          "text": [
            "Varsayılan Cemberin Yaricapi :  3\n",
            "Varsayılan Cemberin Cevresi :  18.84955592153876\n",
            "Varsayılan Cemberin Alani :  28.274333882308138\n"
          ]
        }
      ],
      "source": [
        "TestCember().main()"
      ]
    },
    {
      "cell_type": "code",
      "execution_count": 32,
      "metadata": {
        "id": "YzYgYn9NFOA7"
      },
      "outputs": [],
      "source": [
        "class BMI():\n",
        "  def __init__(self,boy,kilo):\n",
        "    self.boy=boy\n",
        "    self.kilo=kilo\n",
        "  def BMIHesapla(self):\n",
        "    return (self.kilo / (self.boy**2))\n",
        "  def BMIDegerlendir(self,BMIScore):\n",
        "    if(BMIScore<18):\n",
        "      print(\"Zayif\")\n",
        "    elif(BMIScore<25):\n",
        "      print(\"Normal\")\n",
        "    elif(BMIScore<30):\n",
        "      print(\"Kilolu\")\n",
        "    else:\n",
        "      print(\"OBEZ\")"
      ]
    },
    {
      "cell_type": "code",
      "execution_count": 33,
      "metadata": {
        "id": "CD_UroAbF6sQ"
      },
      "outputs": [],
      "source": [
        "class TestBMI():\n",
        "  def main(self):\n",
        "    boy=eval(input(\"Boy degerini metre cinsinden giriniz : \"))\n",
        "    kilo=eval(input(\"Kilo degerini kg cinsinden giriniz : \"))\n",
        "    kisi1=BMI(boy,kilo)\n",
        "    print(\"Kisi-1 nesnesi icin BMI Score : \", kisi1.BMIHesapla())\n",
        "    print(\"Kisi-1 nesnesi icin BMI Result : \", end=' ')\n",
        "    kisi1.BMIDegerlendir(kisi1.BMIHesapla())"
      ]
    },
    {
      "cell_type": "code",
      "execution_count": 34,
      "metadata": {
        "colab": {
          "base_uri": "https://localhost:8080/"
        },
        "id": "YpFOh7riG1DI",
        "outputId": "a24342fb-b5b4-484f-df7d-8b967f49d212"
      },
      "outputs": [
        {
          "name": "stdout",
          "output_type": "stream",
          "text": [
            "Kisi-1 nesnesi icin BMI Score :  0.0023671253629592224\n",
            "Kisi-1 nesnesi icin BMI Result :  Zayif\n"
          ]
        }
      ],
      "source": [
        "TestBMI().main()"
      ]
    },
    {
      "cell_type": "code",
      "execution_count": 35,
      "metadata": {
        "id": "OfuQuB5tHPJi"
      },
      "outputs": [],
      "source": [
        "class TV():\n",
        "  def __init__(self):\n",
        "    self.channel=1\n",
        "    self.volumeLevel=1\n",
        "    self.on=False\n",
        "  def turnOn(self):\n",
        "    self.on=True\n",
        "  def turnOff(self):\n",
        "    self.on=False\n",
        "  def getChannel(self):\n",
        "    return self.channel\n",
        "  def setChannel(self,channel):\n",
        "    if (self.on==True and 1<=channel<=120):\n",
        "      self.channel=channel\n",
        "  def getVolumeLevel(self):\n",
        "    return self.volumeLevel\n",
        "  def setVolumeLevel(self,volumeLevel):\n",
        "    if (self.on== True and 0<=volumeLevel<=7):\n",
        "      self.volumeLevel=volumeLevel\n",
        "  def channelUp(self):\n",
        "    if (self.on==True and self.channel<120):\n",
        "      self.channel+=1\n",
        "  def channelDown(self):\n",
        "    if (self.on==True and self.channel>0):\n",
        "      self.channel-=1\n",
        "  def volumeLevelUp(self):\n",
        "    if (self.on==True and self.volumeLevel<7):\n",
        "      self.volumeLevel+=1\n",
        "  def volumeLevelDown(self):\n",
        "    if (self.on==True and self.volumeLevel>0):\n",
        "      self.volumeLevel-=1"
      ]
    },
    {
      "cell_type": "code",
      "execution_count": 36,
      "metadata": {
        "id": "SnjXaU2EJj1p"
      },
      "outputs": [],
      "source": [
        "class TestTV():\n",
        "  def main(self):\n",
        "    tv1=TV()\n",
        "    tv1.turnOn()\n",
        "\n",
        "\n",
        "    tv1.channelUp()\n",
        "    tv1.channelUp()\n",
        "    tv1.channelUp()\n",
        "    tv1.channelUp()\n",
        "    tv1.channelUp()\n",
        "    tv1.channelUp()\n",
        "    tv1.channelUp()\n",
        "    tv1.channelUp()\n",
        "    tv1.channelUp()\n",
        "\n",
        "    tv1.volumeLevelDown()\n",
        "    tv1.volumeLevelDown()\n",
        "    tv1.volumeLevelDown()\n",
        "    tv1.volumeLevelDown()\n",
        "    tv1.volumeLevelUp()\n",
        "    tv1.volumeLevelUp()\n",
        "    tv1.volumeLevelUp()\n",
        "    tv1.volumeLevelUp()\n",
        "    tv1.volumeLevelUp()\n",
        "    tv1.volumeLevelUp()\n",
        "    tv1.volumeLevelUp()\n",
        "    tv1.volumeLevelUp()\n",
        "    tv1.volumeLevelUp()\n",
        "    tv1.volumeLevelUp()\n",
        "    tv1.volumeLevelUp()\n",
        "\n",
        "    print(\"Mevcut Kanal : \" , tv1.getChannel())\n",
        "    print(\"Mevcut Volume : \", tv1.getVolumeLevel())\n"
      ]
    },
    {
      "cell_type": "code",
      "execution_count": 37,
      "metadata": {
        "colab": {
          "base_uri": "https://localhost:8080/"
        },
        "id": "ICmeonWzJ4W4",
        "outputId": "a6264d9d-459c-45df-e58b-c3ae87d427f7"
      },
      "outputs": [
        {
          "name": "stdout",
          "output_type": "stream",
          "text": [
            "Mevcut Kanal :  10\n",
            "Mevcut Volume :  7\n"
          ]
        }
      ],
      "source": [
        "TestTV().main()"
      ]
    }
  ],
  "metadata": {
    "colab": {
      "provenance": []
    },
    "kernelspec": {
      "display_name": "Python 3",
      "name": "python3"
    },
    "language_info": {
      "codemirror_mode": {
        "name": "ipython",
        "version": 3
      },
      "file_extension": ".py",
      "mimetype": "text/x-python",
      "name": "python",
      "nbconvert_exporter": "python",
      "pygments_lexer": "ipython3",
      "version": "3.12.3"
    }
  },
  "nbformat": 4,
  "nbformat_minor": 0
}
