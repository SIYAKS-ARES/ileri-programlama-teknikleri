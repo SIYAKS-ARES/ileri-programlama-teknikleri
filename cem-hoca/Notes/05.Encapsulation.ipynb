{
  "cells": [
    {
      "cell_type": "code",
      "execution_count": 1,
      "metadata": {
        "id": "JqqpHfdDuE5_"
      },
      "outputs": [],
      "source": [
        "class A():\n",
        "  def __init__(self):\n",
        "    self.__a=0\n",
        "    self.__b=0\n",
        "  def getA(self):\n",
        "    return self.__a\n",
        "  def setA(self,a):\n",
        "    self.__a=a\n",
        "  def getB(self):\n",
        "    return self.__b\n",
        "  def setB(self,b):\n",
        "    self.__b=b\n",
        "  def info(self):\n",
        "    print(\"A value : \" , self.getA())\n",
        "    print(\"B value : \" , self.__b)"
      ]
    },
    {
      "cell_type": "code",
      "execution_count": 2,
      "metadata": {
        "id": "HV_Y0qlFvisV"
      },
      "outputs": [],
      "source": [
        "class TestA():\n",
        "  def main(self):\n",
        "    a=A()\n",
        "    a.setA(10)\n",
        "    a.setB(5)\n",
        "    print(a.getA())\n",
        "    print(a.getB())\n",
        "    a.info()"
      ]
    },
    {
      "cell_type": "code",
      "execution_count": 3,
      "metadata": {
        "colab": {
          "base_uri": "https://localhost:8080/"
        },
        "id": "xYbvnw_MwEnT",
        "outputId": "a12cb671-196e-427e-fc83-520098dfb451"
      },
      "outputs": [
        {
          "name": "stdout",
          "output_type": "stream",
          "text": [
            "10\n",
            "5\n",
            "A value :  10\n",
            "B value :  5\n"
          ]
        }
      ],
      "source": [
        "\n",
        "TestA().main()"
      ]
    },
    {
      "cell_type": "code",
      "execution_count": 4,
      "metadata": {
        "id": "DxjfBR8ewNVO"
      },
      "outputs": [],
      "source": [
        "class A():\n",
        "  def __init__(self,a,b):\n",
        "    self.__a=a\n",
        "    self.__b=b\n",
        "  def getA(self):\n",
        "    return self.__a\n",
        "  def setA(self,a):\n",
        "    self.__a=a\n",
        "  def getB(self):\n",
        "    return self.__b\n",
        "  def setB(self,b):\n",
        "    self.__b=b\n",
        "  def info(self):\n",
        "    print(\"2. Consractor ile parametre aktarma \")\n",
        "    print(\"A value : \" , self.getA())\n",
        "    print(\"B value : \" , self.__b)"
      ]
    },
    {
      "cell_type": "code",
      "execution_count": 9,
      "metadata": {
        "id": "HTQPgnAlw2ef"
      },
      "outputs": [],
      "source": [
        "class TestA():\n",
        "  def main(self):\n",
        "    a=A(11,22)\n",
        "    print(a.getA())\n",
        "    print(a.getB())\n",
        "    a.info()"
      ]
    },
    {
      "cell_type": "code",
      "execution_count": 10,
      "metadata": {
        "colab": {
          "base_uri": "https://localhost:8080/"
        },
        "id": "QeuIBycXw9-u",
        "outputId": "d354152c-72d1-4cf7-ce2f-2a9157dfff2d"
      },
      "outputs": [
        {
          "name": "stdout",
          "output_type": "stream",
          "text": [
            "11\n",
            "22\n",
            "2. Consractor ile parametre aktarma \n",
            "A value :  11\n",
            "B value :  22\n"
          ]
        }
      ],
      "source": [
        "TestA().main()"
      ]
    },
    {
      "cell_type": "code",
      "execution_count": 12,
      "metadata": {
        "id": "Sn8oASFvxRJE"
      },
      "outputs": [],
      "source": [
        "class A():\n",
        "  def __init__(self):\n",
        "    self.__a=0\n",
        "    self.__b=0\n",
        "  def getA(self):\n",
        "    return self.__a\n",
        "  def setA(self,a):\n",
        "    self.__a=a\n",
        "  def getB(self):\n",
        "    return self.__b\n",
        "  def setB(self,b):\n",
        "    self.__b=b\n",
        "  def setParams(self,a,b):\n",
        "    self.__a=a\n",
        "    self.__b=b\n",
        "  def info(self):\n",
        "    print(\"3. public metot ile parametre aktarma \")\n",
        "    print(\"A value : \" , self.getA())\n",
        "    print(\"B value : \" , self.__b)"
      ]
    },
    {
      "cell_type": "code",
      "execution_count": 13,
      "metadata": {
        "id": "jio74qHgxvui"
      },
      "outputs": [],
      "source": [
        "class TestA():\n",
        "  def main(self):\n",
        "    a=A()\n",
        "    print(a.getA())\n",
        "    print(a.getB())\n",
        "    a.setParams(10,100)\n",
        "    a.info()"
      ]
    },
    {
      "cell_type": "code",
      "execution_count": 14,
      "metadata": {
        "colab": {
          "base_uri": "https://localhost:8080/"
        },
        "id": "q2zR_gLlx7vB",
        "outputId": "44403e41-12d0-4097-b3c3-6dca865ee56e"
      },
      "outputs": [
        {
          "name": "stdout",
          "output_type": "stream",
          "text": [
            "0\n",
            "0\n",
            "3. public metot ile parametre aktarma \n",
            "A value :  10\n",
            "B value :  100\n"
          ]
        }
      ],
      "source": [
        "TestA().main()"
      ]
    }
  ],
  "metadata": {
    "colab": {
      "provenance": []
    },
    "kernelspec": {
      "display_name": "Python 3",
      "name": "python3"
    },
    "language_info": {
      "name": "python"
    }
  },
  "nbformat": 4,
  "nbformat_minor": 0
}
