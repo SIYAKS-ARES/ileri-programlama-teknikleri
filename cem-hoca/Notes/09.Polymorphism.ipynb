{
  "nbformat": 4,
  "nbformat_minor": 0,
  "metadata": {
    "colab": {
      "provenance": []
    },
    "kernelspec": {
      "name": "python3",
      "display_name": "Python 3"
    },
    "language_info": {
      "name": "python"
    }
  },
  "cells": [
    {
      "cell_type": "code",
      "execution_count": 40,
      "metadata": {
        "id": "PgAnMGB-589b"
      },
      "outputs": [],
      "source": [
        "class Insan():\n",
        "  def __init__(self,ad,unvan,yas):\n",
        "    self.__ad=ad\n",
        "    self.__unvan=unvan\n",
        "    self.__yas=yas\n",
        "  def getAd(self):\n",
        "    return self.__ad\n",
        "  def setAd(self,ad):\n",
        "    self.__ad=ad\n",
        "  def getUnvan(self):\n",
        "    return self.__unvan\n",
        "  def setUnvan(self,unvan):\n",
        "    self.__unvan=unvan\n",
        "  def getYas(self):\n",
        "    return self.__yas\n",
        "  def setYas(self,yas):\n",
        "    self.__yas=yas\n",
        "  def info(self):\n",
        "    print(\"Insan info metot calisti\")\n",
        "    print(\"Ad : \" , self.__ad , \"Unvan : \" , self.__unvan , \"Yas: \" , self.__yas)\n",
        "#  def info(self,detay=\"Izinli\"):\n",
        "#    print(\"Overloading 1. kez denendi\")\n",
        "#    print(\"Ad : \" , self.__ad , \"Unvan : \" , self.__unvan , \"Yas: \" , self.__yas , \"Detay : \" , detay)\n",
        "#  def info(self,detay=None):\n",
        "#    print(\"Overloading 2. kez denendi\")\n",
        "#    print(\"Ad : \" , self.__ad , \"Unvan : \" , self.__unvan , \"Yas: \" , self.__yas , \"Detay : \" , detay)\n",
        "#  def info(self,*params):\n",
        "#    print(\"Overloading 3. kez denendi\")\n",
        "#    print(\"Ad : \" , self.__ad , \"Unvan : \" , self.__unvan , \"Yas: \" , self.__yas, params)"
      ]
    },
    {
      "cell_type": "code",
      "source": [
        "k1=Insan(\"Ahmet\",\"IT\",21)\n",
        "#k1.info(\"Izinli\")\n",
        "#k1.info(\"Izinli\",10,\"gun\")\n",
        "k1.info()"
      ],
      "metadata": {
        "colab": {
          "base_uri": "https://localhost:8080/"
        },
        "id": "tiuB-bj39XDO",
        "outputId": "e0c33044-c409-422f-86ef-b7d0ea75dc61"
      },
      "execution_count": 41,
      "outputs": [
        {
          "output_type": "stream",
          "name": "stdout",
          "text": [
            "Insan info metot calisti\n",
            "Ad :  Ahmet Unvan :  IT Yas:  21\n"
          ]
        }
      ]
    },
    {
      "cell_type": "code",
      "source": [
        "class Admin(Insan): # Admin extends Insan -> Admin is a Insan\n",
        "  def __init__(self,ad,unvan,yas,tecrube):\n",
        "    super().__init__(ad,unvan,yas)\n",
        "    self.__tecrube=tecrube\n",
        "#  def info(self): # override super().info()\n",
        "#    print(\"Override Edilmis info metotu calisti\")\n",
        "#    print(\"Ad : \" , super().getAd() , \"Unvan : \" , super().getUnvan() , \"Yas: \" , super().getYas() , \"Tecrube : \" , self.__tecrube)"
      ],
      "metadata": {
        "id": "kpooqZJc_bs3"
      },
      "execution_count": 42,
      "outputs": []
    },
    {
      "cell_type": "code",
      "source": [
        "k1=Insan(\"Ahmet\",\"IT\",21)\n",
        "#k1.info(\"Izinli\")\n",
        "#k1.info(\"Izinli\",10,\"gun\")\n",
        "k1.info()\n",
        "\n",
        "a1=Admin(\"Ali\",\"IT\",25,5)\n",
        "a1.info()"
      ],
      "metadata": {
        "colab": {
          "base_uri": "https://localhost:8080/"
        },
        "id": "YlQQEFXz_vhy",
        "outputId": "ef0509a0-b811-4ed1-efa8-0eeafee3b1e4"
      },
      "execution_count": 43,
      "outputs": [
        {
          "output_type": "stream",
          "name": "stdout",
          "text": [
            "Insan info metot calisti\n",
            "Ad :  Ahmet Unvan :  IT Yas:  21\n",
            "Insan info metot calisti\n",
            "Ad :  Ali Unvan :  IT Yas:  25\n"
          ]
        }
      ]
    },
    {
      "cell_type": "code",
      "source": [
        "class SuperAdmin(Admin):\n",
        "  def __init__(self,ad,unvan,yas,tecrube):\n",
        "    super().__init__(ad,unvan,yas,tecrube)\n",
        "  def info(self): # override\n",
        "    print(\"2. Override Edilmis info metotu calisti\")\n",
        "    print(\"Ad : \" , super().getAd() , \"Unvan : \" , super().getUnvan() , \"Yas: \" , super().getYas() )"
      ],
      "metadata": {
        "id": "BXErp5lSAEEU"
      },
      "execution_count": 44,
      "outputs": []
    },
    {
      "cell_type": "code",
      "source": [
        "sa1=SuperAdmin(\"Veli\",\"IT Dev.\",35,15)\n",
        "sa1.info()"
      ],
      "metadata": {
        "colab": {
          "base_uri": "https://localhost:8080/"
        },
        "id": "kKTKMt57AG7H",
        "outputId": "30b2cfa3-9f7d-4c9b-999b-5b0543739f79"
      },
      "execution_count": 45,
      "outputs": [
        {
          "output_type": "stream",
          "name": "stdout",
          "text": [
            "2. Override Edilmis info metotu calisti\n",
            "Ad :  Veli Unvan :  IT Dev. Yas:  35\n"
          ]
        }
      ]
    },
    {
      "cell_type": "code",
      "source": [
        "def main():\n",
        "  a=Admin(\"Veli\",\"IT Dev.\",35,15)\n",
        "  poly(a)\n",
        "def poly(obj):\n",
        "  obj.info()"
      ],
      "metadata": {
        "id": "7iatQhbVAlZx"
      },
      "execution_count": 48,
      "outputs": []
    },
    {
      "cell_type": "code",
      "source": [
        "main()"
      ],
      "metadata": {
        "colab": {
          "base_uri": "https://localhost:8080/"
        },
        "id": "Gfvlg_xUA7rW",
        "outputId": "976d87e1-9390-49db-af77-ffa4c0abddd8"
      },
      "execution_count": 49,
      "outputs": [
        {
          "output_type": "stream",
          "name": "stdout",
          "text": [
            "Insan info metot calisti\n",
            "Ad :  Veli Unvan :  IT Dev. Yas:  35\n"
          ]
        }
      ]
    }
  ]
}