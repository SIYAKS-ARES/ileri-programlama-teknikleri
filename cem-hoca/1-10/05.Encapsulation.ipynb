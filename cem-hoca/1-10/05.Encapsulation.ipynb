{
  "nbformat": 4,
  "nbformat_minor": 0,
  "metadata": {
    "colab": {
      "provenance": []
    },
    "kernelspec": {
      "name": "python3",
      "display_name": "Python 3"
    },
    "language_info": {
      "name": "python"
    }
  },
  "cells": [
    {
      "cell_type": "code",
      "execution_count": 1,
      "metadata": {
        "id": "JqqpHfdDuE5_"
      },
      "outputs": [],
      "source": [
        "class A():\n",
        "  def __init__(self):\n",
        "    self.__a=0\n",
        "    self.__b=0\n",
        "  def getA(self):\n",
        "    return self.__a\n",
        "  def setA(self,a):\n",
        "    self.__a=a\n",
        "  def getB(self):\n",
        "    return self.__b\n",
        "  def setB(self,b):\n",
        "    self.__b=b\n",
        "  def info(self):\n",
        "    print(\"A value : \" , self.getA())\n",
        "    print(\"B value : \" , self.__b)"
      ]
    },
    {
      "cell_type": "code",
      "source": [
        "class TestA():\n",
        "  def main():\n",
        "    a=A()\n",
        "    a.setA(10)\n",
        "    a.setB(5)\n",
        "    print(a.getA())\n",
        "    print(a.getB())\n",
        "    a.info()"
      ],
      "metadata": {
        "id": "HV_Y0qlFvisV"
      },
      "execution_count": 2,
      "outputs": []
    },
    {
      "cell_type": "code",
      "source": [
        "TestA.main()"
      ],
      "metadata": {
        "colab": {
          "base_uri": "https://localhost:8080/"
        },
        "id": "xYbvnw_MwEnT",
        "outputId": "a12cb671-196e-427e-fc83-520098dfb451"
      },
      "execution_count": 3,
      "outputs": [
        {
          "output_type": "stream",
          "name": "stdout",
          "text": [
            "10\n",
            "5\n",
            "A value :  10\n",
            "B value :  5\n"
          ]
        }
      ]
    },
    {
      "cell_type": "code",
      "source": [
        "class A():\n",
        "  def __init__(self,a,b):\n",
        "    self.__a=a\n",
        "    self.__b=b\n",
        "  def getA(self):\n",
        "    return self.__a\n",
        "  def setA(self,a):\n",
        "    self.__a=a\n",
        "  def getB(self):\n",
        "    return self.__b\n",
        "  def setB(self,b):\n",
        "    self.__b=b\n",
        "  def info(self):\n",
        "    print(\"2. Consractor ile parametre aktarma \")\n",
        "    print(\"A value : \" , self.getA())\n",
        "    print(\"B value : \" , self.__b)"
      ],
      "metadata": {
        "id": "DxjfBR8ewNVO"
      },
      "execution_count": 4,
      "outputs": []
    },
    {
      "cell_type": "code",
      "source": [
        "class TestA():\n",
        "  def main():\n",
        "    a=A(11,22)\n",
        "    print(a.getA())\n",
        "    print(a.getB())\n",
        "    a.info()"
      ],
      "metadata": {
        "id": "HTQPgnAlw2ef"
      },
      "execution_count": 9,
      "outputs": []
    },
    {
      "cell_type": "code",
      "source": [
        "TestA.main()"
      ],
      "metadata": {
        "colab": {
          "base_uri": "https://localhost:8080/"
        },
        "id": "QeuIBycXw9-u",
        "outputId": "d354152c-72d1-4cf7-ce2f-2a9157dfff2d"
      },
      "execution_count": 10,
      "outputs": [
        {
          "output_type": "stream",
          "name": "stdout",
          "text": [
            "11\n",
            "22\n",
            "2. Consractor ile parametre aktarma \n",
            "A value :  11\n",
            "B value :  22\n"
          ]
        }
      ]
    },
    {
      "cell_type": "code",
      "source": [
        "class A():\n",
        "  def __init__(self):\n",
        "    self.__a=0\n",
        "    self.__b=0\n",
        "  def getA(self):\n",
        "    return self.__a\n",
        "  def setA(self,a):\n",
        "    self.__a=a\n",
        "  def getB(self):\n",
        "    return self.__b\n",
        "  def setB(self,b):\n",
        "    self.__b=b\n",
        "  def setParams(self,a,b):\n",
        "    self.__a=a\n",
        "    self.__b=b\n",
        "  def info(self):\n",
        "    print(\"3. public metot ile parametre aktarma \")\n",
        "    print(\"A value : \" , self.getA())\n",
        "    print(\"B value : \" , self.__b)"
      ],
      "metadata": {
        "id": "Sn8oASFvxRJE"
      },
      "execution_count": 12,
      "outputs": []
    },
    {
      "cell_type": "code",
      "source": [
        "class TestA():\n",
        "  def main():\n",
        "    a=A()\n",
        "    print(a.getA())\n",
        "    print(a.getB())\n",
        "    a.setParams(10,100)\n",
        "    a.info()"
      ],
      "metadata": {
        "id": "jio74qHgxvui"
      },
      "execution_count": 13,
      "outputs": []
    },
    {
      "cell_type": "code",
      "source": [
        "TestA.main()"
      ],
      "metadata": {
        "colab": {
          "base_uri": "https://localhost:8080/"
        },
        "id": "q2zR_gLlx7vB",
        "outputId": "44403e41-12d0-4097-b3c3-6dca865ee56e"
      },
      "execution_count": 14,
      "outputs": [
        {
          "output_type": "stream",
          "name": "stdout",
          "text": [
            "0\n",
            "0\n",
            "3. public metot ile parametre aktarma \n",
            "A value :  10\n",
            "B value :  100\n"
          ]
        }
      ]
    }
  ]
}