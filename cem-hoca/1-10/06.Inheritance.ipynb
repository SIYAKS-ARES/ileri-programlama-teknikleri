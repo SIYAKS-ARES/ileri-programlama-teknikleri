{
  "nbformat": 4,
  "nbformat_minor": 0,
  "metadata": {
    "colab": {
      "provenance": []
    },
    "kernelspec": {
      "name": "python3",
      "display_name": "Python 3"
    },
    "language_info": {
      "name": "python"
    }
  },
  "cells": [
    {
      "cell_type": "code",
      "execution_count": 2,
      "metadata": {
        "id": "1BPmK6VuyF40"
      },
      "outputs": [],
      "source": [
        "class A(): # super , base, parent class\n",
        "  def __init__(self,a,b):\n",
        "    self.__a=a\n",
        "    self.__b=b\n",
        "  def getA(self):\n",
        "    return self.__a\n",
        "  def setA(self,a):\n",
        "    self.__a=a\n",
        "  def getB(self):\n",
        "    return self.__b\n",
        "  def setB(self,b):\n",
        "    self.__b=b\n",
        "  def info(self):\n",
        "    print(\"A value : \" , self.getA())\n",
        "    print(\"B value : \" , self.__b)"
      ]
    },
    {
      "cell_type": "code",
      "source": [
        "class B(A): # B extends A -> B is a A # sub-class child-class derived-class\n",
        "  def __init__(self,a,b,c):\n",
        "    super().__init__(a,b)\n",
        "    self.__c=c\n",
        "  def getC(self):\n",
        "    return self.__c\n",
        "  def setC(self,c):\n",
        "    self.__c=c\n",
        "  def infoB(self):\n",
        "    print(\"A value : \" , super().getA())\n",
        "    print(\"B value : \" , super().getB())\n",
        "    print(\"C value : \" , self.getC())"
      ],
      "metadata": {
        "id": "EAcA9SMr0dbD"
      },
      "execution_count": 3,
      "outputs": []
    },
    {
      "cell_type": "code",
      "source": [
        "class TestAB():\n",
        "  def main():\n",
        "    a=A(10,10)\n",
        "    a.info()\n",
        "    b=B(1,10,100)\n",
        "    b.info()\n",
        "    b.infoB()"
      ],
      "metadata": {
        "id": "fHK48ivq1va0"
      },
      "execution_count": 7,
      "outputs": []
    },
    {
      "cell_type": "code",
      "source": [
        "TestAB.main()"
      ],
      "metadata": {
        "colab": {
          "base_uri": "https://localhost:8080/"
        },
        "id": "HeZPpJdv15Vm",
        "outputId": "b38abc84-24b9-4a43-8ff2-d0445b4a14f5"
      },
      "execution_count": 8,
      "outputs": [
        {
          "output_type": "stream",
          "name": "stdout",
          "text": [
            "A value :  10\n",
            "B value :  10\n",
            "A value :  1\n",
            "B value :  10\n",
            "A value :  1\n",
            "B value :  10\n",
            "C value :  100\n"
          ]
        }
      ]
    },
    {
      "cell_type": "code",
      "source": [
        "class Yonetici():\n",
        "  def __init__(self,ad,unvan,yas):\n",
        "    self.__ad=ad\n",
        "    self.__unvan=unvan\n",
        "    self.__yas=yas\n",
        "  def getAd(self):\n",
        "    return self.__adc\n",
        "  def setAd(self,ad):\n",
        "    self.__ad=ad\n",
        "  def getUnvan(self):\n",
        "    return self.__unvan\n",
        "  def setUnvan(self,unvan):\n",
        "    self.__unvan=unvan\n",
        "  def getYas(self):\n",
        "    return self.__yas\n",
        "  def setYas(self,yas):\n",
        "    self.__yas=yas\n",
        "  def info(self):\n",
        "    print(\"Personel Adi : \", self.getAd())\n",
        "    print(\"Personel Unvani : \", self.getUnvan())\n",
        "    print(\"Personel Yasi : \", self.getYas())"
      ],
      "metadata": {
        "id": "9VKzRTfr2z0t"
      },
      "execution_count": 10,
      "outputs": []
    },
    {
      "cell_type": "code",
      "source": [
        "class Admin(Yonetici):\n",
        "  def __init__(self,ad,unvan,yas,tecrube):\n",
        "    super().__init__(ad,unvan,yas)\n",
        "    self.__tecrube=tecrube\n",
        "  def getTecrube(self):\n",
        "    return self.__tecrube\n",
        "  def setTecrube(self,tecrube):\n",
        "    self.__tecrube=tecrube"
      ],
      "metadata": {
        "id": "6PDnAE_E3jV5"
      },
      "execution_count": 12,
      "outputs": []
    },
    {
      "cell_type": "code",
      "source": [
        "class SuperAdmin(Admin):\n",
        "  def __init__(self,ad,unvan,yas,tecrube):\n",
        "    super().__init__(ad,unvan,yas,tecrube)\n",
        "  def info(self):\n",
        "    print(\"Personel Adi : \", super().getAd())\n",
        "    print(\"Personel Unvani : \", super().getUnvan())\n",
        "    print(\"Personel Yasi : \", super().getYas())\n",
        "    print(\"Personel Tecrube Yili : \", super().getTecrube())"
      ],
      "metadata": {
        "id": "r2t5NQDn4EtH"
      },
      "execution_count": 24,
      "outputs": []
    },
    {
      "cell_type": "code",
      "source": [
        "class TestMain():\n",
        "  def main():\n",
        "    k1=Yonetici(\"Ahmet\",\"IT Dev.\",21)\n",
        "    k1.info()\n",
        "    print(\"-------------------------------\")\n",
        "    k2=Admin(\"Furkan\",\"IT Junior Dev.\",21,2)\n",
        "    k2.info()\n",
        "    print(\"-------------------------------\")\n",
        "    k3=SuperAdmin(\"Baris\",\"IT Senior Dev\",20,2)\n",
        "    k3.info()"
      ],
      "metadata": {
        "id": "qNX9CKN34e4w"
      },
      "execution_count": 25,
      "outputs": []
    },
    {
      "cell_type": "code",
      "source": [
        "TestMain.main()"
      ],
      "metadata": {
        "colab": {
          "base_uri": "https://localhost:8080/"
        },
        "id": "sN0VINXz4xrN",
        "outputId": "fb708c80-4054-4e0c-9e45-779a0ab28ead"
      },
      "execution_count": 23,
      "outputs": [
        {
          "output_type": "stream",
          "name": "stdout",
          "text": [
            "Personel Adi :  Ahmet\n",
            "Personel Unvani :  IT Dev.\n",
            "Personel Yasi :  21\n",
            "-------------------------------\n",
            "Personel Adi :  Furkan\n",
            "Personel Unvani :  IT Junior Dev.\n",
            "Personel Yasi :  21\n",
            "-------------------------------\n",
            "Personel Adi :  Baris\n",
            "Personel Unvani :  IT Senior Dev\n",
            "Personel Yasi :  20\n",
            "Personel Tecrube Yili :  2\n"
          ]
        }
      ]
    }
  ]
}