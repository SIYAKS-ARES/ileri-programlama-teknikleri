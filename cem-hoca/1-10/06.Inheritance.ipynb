{
  "cells": [
    {
      "cell_type": "code",
      "execution_count": 10,
      "metadata": {
        "id": "1BPmK6VuyF40"
      },
      "outputs": [],
      "source": [
        "class A(): # super , base, parent class\n",
        "  def __init__(self,a,b):\n",
        "    self.__a=a\n",
        "    self.__b=b\n",
        "  def getA(self):\n",
        "    return self.__a\n",
        "  def setA(self,a):\n",
        "    self.__a=a\n",
        "  def getB(self):\n",
        "    return self.__b\n",
        "  def setB(self,b):\n",
        "    self.__b=b\n",
        "  def info(self):\n",
        "    print(\"A value : \" , self.getA())\n",
        "    print(\"B value : \" , self.__b)"
      ]
    },
    {
      "cell_type": "code",
      "execution_count": 11,
      "metadata": {
        "id": "EAcA9SMr0dbD"
      },
      "outputs": [],
      "source": [
        "class B(A): # B extends A -> B is a A # sub-class child-class derived-class\n",
        "  def __init__(self,a,b,c):\n",
        "    super().__init__(a,b)\n",
        "    self.__c=c\n",
        "  def getC(self):\n",
        "    return self.__c\n",
        "  def setC(self,c):\n",
        "    self.__c=c\n",
        "  def infoB(self):\n",
        "    print(\"A value : \" , super().getA())\n",
        "    print(\"B value : \" , super().getB())\n",
        "    print(\"C value : \" , self.getC())"
      ]
    },
    {
      "cell_type": "code",
      "execution_count": 12,
      "metadata": {
        "id": "fHK48ivq1va0"
      },
      "outputs": [],
      "source": [
        "class TestAB():\n",
        "  def main(self):\n",
        "    a=A(10,10)\n",
        "    a.info()\n",
        "    b=B(1,10,100)\n",
        "    b.info()\n",
        "    b.infoB()"
      ]
    },
    {
      "cell_type": "code",
      "execution_count": 13,
      "metadata": {
        "colab": {
          "base_uri": "https://localhost:8080/"
        },
        "id": "HeZPpJdv15Vm",
        "outputId": "b38abc84-24b9-4a43-8ff2-d0445b4a14f5"
      },
      "outputs": [
        {
          "name": "stdout",
          "output_type": "stream",
          "text": [
            "A value :  10\n",
            "B value :  10\n",
            "A value :  1\n",
            "B value :  10\n",
            "A value :  1\n",
            "B value :  10\n",
            "C value :  100\n"
          ]
        }
      ],
      "source": [
        "\n",
        "TestAB().main()"
      ]
    },
    {
      "cell_type": "code",
      "execution_count": 14,
      "metadata": {
        "id": "9VKzRTfr2z0t"
      },
      "outputs": [],
      "source": [
        "class Yonetici():\n",
        "  def __init__(self,ad,unvan,yas):\n",
        "    self.__ad=ad\n",
        "    self.__unvan=unvan\n",
        "    self.__yas=yas\n",
        "  def getAd(self):\n",
        "    return self.__ad\n",
        "  def setAd(self,ad):\n",
        "    self.__ad=ad\n",
        "  def getUnvan(self):\n",
        "    return self.__unvan\n",
        "  def setUnvan(self,unvan):\n",
        "    self.__unvan=unvan\n",
        "  def getYas(self):\n",
        "    return self.__yas\n",
        "  def setYas(self,yas):\n",
        "    self.__yas=yas\n",
        "  def info(self):\n",
        "    print(\"Personel Adi : \", self.getAd())\n",
        "    print(\"Personel Unvani : \", self.getUnvan())\n",
        "    print(\"Personel Yasi : \", self.getYas())"
      ]
    },
    {
      "cell_type": "code",
      "execution_count": 15,
      "metadata": {
        "id": "6PDnAE_E3jV5"
      },
      "outputs": [],
      "source": [
        "class Admin(Yonetici):\n",
        "  def __init__(self,ad,unvan,yas,tecrube):\n",
        "    super().__init__(ad,unvan,yas)\n",
        "    self.__tecrube=tecrube\n",
        "  def getTecrube(self):\n",
        "    return self.__tecrube\n",
        "  def setTecrube(self,tecrube):\n",
        "    self.__tecrube=tecrube"
      ]
    },
    {
      "cell_type": "code",
      "execution_count": 16,
      "metadata": {
        "id": "r2t5NQDn4EtH"
      },
      "outputs": [],
      "source": [
        "class SuperAdmin(Admin):\n",
        "  def __init__(self,ad,unvan,yas,tecrube):\n",
        "    super().__init__(ad,unvan,yas,tecrube)\n",
        "  def info(self):\n",
        "    print(\"Personel Adi : \", super().getAd())\n",
        "    print(\"Personel Unvani : \", super().getUnvan())\n",
        "    print(\"Personel Yasi : \", super().getYas())\n",
        "    print(\"Personel Tecrube Yili : \", super().getTecrube())"
      ]
    },
    {
      "cell_type": "code",
      "execution_count": 17,
      "metadata": {
        "id": "qNX9CKN34e4w"
      },
      "outputs": [],
      "source": [
        "class TestMain():\n",
        "  def main():\n",
        "    k1=Yonetici(\"Ahmet\",\"IT Dev.\",21)\n",
        "    k1.info()\n",
        "    print(\"-------------------------------\")\n",
        "    k2=Admin(\"Furkan\",\"IT Junior Dev.\",21,2)\n",
        "    k2.info()\n",
        "    print(\"-------------------------------\")\n",
        "    k3=SuperAdmin(\"Baris\",\"IT Senior Dev\",20,2)\n",
        "    k3.info()"
      ]
    },
    {
      "cell_type": "code",
      "execution_count": 18,
      "metadata": {
        "colab": {
          "base_uri": "https://localhost:8080/"
        },
        "id": "sN0VINXz4xrN",
        "outputId": "fb708c80-4054-4e0c-9e45-779a0ab28ead"
      },
      "outputs": [
        {
          "name": "stdout",
          "output_type": "stream",
          "text": [
            "Personel Adi :  Ahmet\n",
            "Personel Unvani :  IT Dev.\n",
            "Personel Yasi :  21\n",
            "-------------------------------\n",
            "Personel Adi :  Furkan\n",
            "Personel Unvani :  IT Junior Dev.\n",
            "Personel Yasi :  21\n",
            "-------------------------------\n",
            "Personel Adi :  Baris\n",
            "Personel Unvani :  IT Senior Dev\n",
            "Personel Yasi :  20\n",
            "Personel Tecrube Yili :  2\n"
          ]
        }
      ],
      "source": [
        "TestMain.main()"
      ]
    }
  ],
  "metadata": {
    "colab": {
      "provenance": []
    },
    "kernelspec": {
      "display_name": "Python 3",
      "name": "python3"
    },
    "language_info": {
      "codemirror_mode": {
        "name": "ipython",
        "version": 3
      },
      "file_extension": ".py",
      "mimetype": "text/x-python",
      "name": "python",
      "nbconvert_exporter": "python",
      "pygments_lexer": "ipython3",
      "version": "3.12.3"
    }
  },
  "nbformat": 4,
  "nbformat_minor": 0
}
